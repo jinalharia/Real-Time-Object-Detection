{
 "cells": [
  {
   "cell_type": "code",
   "execution_count": 1,
   "metadata": {},
   "outputs": [],
   "source": [
    "# Import libraries\n",
    "import os\n",
    "import cv2\n",
    "import numpy as np\n",
    "\n",
    "# Define paths\n",
    "base_dir = os.path.abspath('')\n",
    "prototxt_path = os.path.join(base_dir, 'model_data', 'MobileNetSSD_deploy.prototxt.txt')\n",
    "caffemodel_path = os.path.join(base_dir, 'model_data', 'MobileNetSSD_deploy.caffemodel')\n",
    "\n",
    "# Read the model\n",
    "model = cv2.dnn.readNetFromCaffe(prototxt_path, caffemodel_path)\n",
    "\n",
    "# initialize the list of class labels MobileNet SSD was trained to\n",
    "# detect, then generate a set of bounding box colors for each class\n",
    "CLASSES = [\"background\", \"aeroplane\", \"bicycle\", \"bird\", \"boat\",\n",
    "           \"bottle\", \"bus\", \"car\", \"cat\", \"chair\", \"cow\", \"diningtable\",\n",
    "           \"dog\", \"horse\", \"motorbike\", \"person\", \"pottedplant\", \"sheep\",\n",
    "           \"sofa\", \"train\", \"tvmonitor\"]\n",
    "COLORS = np.random.uniform(0, 255, size=(len(CLASSES), 3))\n"
   ]
  },
  {
   "cell_type": "code",
   "execution_count": 2,
   "metadata": {},
   "outputs": [
    {
     "name": "stdout",
     "output_type": "stream",
     "text": [
      "Image path: C:\\UBS\\Dev\\neuralnet\\neuralnet\\FaceExtractor\\images\\cars.jpg\n",
      "[INFO] car: 100.00%\n",
      "[INFO] car: 100.00%\n",
      "[INFO] car: 100.00%\n",
      "[INFO] car: 99.96%\n",
      "Image cars.jpg converted successfully\n"
     ]
    }
   ],
   "source": [
    "# Create directory 'updated_images' if it does not exist\n",
    "if not os.path.exists('updated_images'):\n",
    "    print(\"New directory created\")\n",
    "    os.makedirs('updated_images')\n",
    "\n",
    "# Loop through all images and save images with marked objects\n",
    "for file in os.listdir(os.path.join(base_dir, 'images')):\n",
    "    file_name, file_extension = os.path.splitext(file)\n",
    "    if (file_extension in ['.png','.jpg']):\n",
    "        print(\"Image path: {}\".format(os.path.join(base_dir, 'images', file)))\n",
    "\n",
    "        image = cv2.imread(os.path.join(base_dir, 'images', file))\n",
    "\n",
    "        (h, w) = image.shape[:2]\n",
    "        blob = cv2.dnn.blobFromImage(cv2.resize(image, (300, 300)), 0.007843, (300, 300), 127.5)\n",
    "\n",
    "        model.setInput(blob)\n",
    "        detections = model.forward()\n",
    "\n",
    "        # Create frame around face\n",
    "        for i in range(0, detections.shape[2]):\n",
    "\n",
    "            confidence = detections[0, 0, i, 2]\n",
    "\n",
    "            # If confidence > 0.2, show box around face\n",
    "            if (confidence > 0.2):\n",
    "                idx = int(detections[0, 0, i, 1])\n",
    "                box = detections[0, 0, i, 3:7] * np.array([w, h, w, h])\n",
    "                (startX, startY, endX, endY) = box.astype(\"int\")\n",
    "                \n",
    "                label = \"{}: {:.2f}%\".format(CLASSES[idx], confidence * 100)\n",
    "                print(\"[INFO] {}\".format(label))\n",
    "                cv2.rectangle(image, (startX, startY), (endX, endY), COLORS[idx], 2)\n",
    "                y = startY - 15 if startY - 15 > 15 else startY + 15\n",
    "                cv2.putText(image, label, (startX, y), cv2.FONT_HERSHEY_SIMPLEX, 0.5, COLORS[idx], 2)\n",
    "                \n",
    "\n",
    "        cv2.imwrite(os.path.join(base_dir, 'updated_images', file), image)\n",
    "        print(\"Image \" + file + \" converted successfully\")"
   ]
  },
  {
   "cell_type": "code",
   "execution_count": null,
   "metadata": {},
   "outputs": [],
   "source": []
  },
  {
   "cell_type": "code",
   "execution_count": null,
   "metadata": {},
   "outputs": [],
   "source": []
  },
  {
   "cell_type": "code",
   "execution_count": null,
   "metadata": {},
   "outputs": [],
   "source": []
  }
 ],
 "metadata": {
  "kernelspec": {
   "display_name": "Python 3",
   "language": "python",
   "name": "python3"
  },
  "language_info": {
   "codemirror_mode": {
    "name": "ipython",
    "version": 3
   },
   "file_extension": ".py",
   "mimetype": "text/x-python",
   "name": "python",
   "nbconvert_exporter": "python",
   "pygments_lexer": "ipython3",
   "version": "3.6.9"
  }
 },
 "nbformat": 4,
 "nbformat_minor": 2
}
